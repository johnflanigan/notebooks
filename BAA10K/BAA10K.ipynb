{
 "cells": [
  {
   "cell_type": "code",
   "execution_count": 1,
   "metadata": {},
   "outputs": [],
   "source": [
    "import math\n",
    "import numpy as np\n",
    "import pandas as pd\n",
    "from matplotlib import pyplot as plt\n",
    "from sklearn.linear_model import LinearRegression\n",
    "from sklearn.model_selection import train_test_split"
   ]
  },
  {
   "cell_type": "markdown",
   "metadata": {},
   "source": [
    "# B.A.A. 10K Analysis"
   ]
  },
  {
   "cell_type": "markdown",
   "metadata": {},
   "source": [
    "I recently ran the Boston Athletic Association 10K this past Sunday. Since I have a data science exam coming up, I thought this would be a good opportunity to practice some of the techniques we've been studying in class."
   ]
  },
  {
   "cell_type": "markdown",
   "metadata": {},
   "source": [
    "## Loading Data\n",
    "The data used in this notebook comes from the [B.A.A. website](http://registration.baa.org/2019/cf10k/public/OverallResults10k.htm). I simply copied the contents of this page and saved it to a text file. I tried to minimize changes to the data in order to get practice reading files although I was forced to manually adjusted a handful of rows in which the spacing had been thrown off by special characters in the person's name."
   ]
  },
  {
   "cell_type": "code",
   "execution_count": 2,
   "metadata": {},
   "outputs": [
    {
     "data": {
      "text/html": [
       "<div>\n",
       "<style scoped>\n",
       "    .dataframe tbody tr th:only-of-type {\n",
       "        vertical-align: middle;\n",
       "    }\n",
       "\n",
       "    .dataframe tbody tr th {\n",
       "        vertical-align: top;\n",
       "    }\n",
       "\n",
       "    .dataframe thead th {\n",
       "        text-align: right;\n",
       "    }\n",
       "</style>\n",
       "<table border=\"1\" class=\"dataframe\">\n",
       "  <thead>\n",
       "    <tr style=\"text-align: right;\">\n",
       "      <th></th>\n",
       "      <th>place</th>\n",
       "      <th>div</th>\n",
       "      <th>tot</th>\n",
       "      <th>bib</th>\n",
       "      <th>name</th>\n",
       "      <th>age</th>\n",
       "      <th>sex</th>\n",
       "      <th>city</th>\n",
       "      <th>st</th>\n",
       "      <th>net_time</th>\n",
       "      <th>gun_time</th>\n",
       "    </tr>\n",
       "  </thead>\n",
       "  <tbody>\n",
       "    <tr>\n",
       "      <th>0</th>\n",
       "      <td>1</td>\n",
       "      <td>1</td>\n",
       "      <td>597</td>\n",
       "      <td>10</td>\n",
       "      <td>David Bett</td>\n",
       "      <td>26</td>\n",
       "      <td>M</td>\n",
       "      <td>Kenya</td>\n",
       "      <td>NaN</td>\n",
       "      <td>28:08</td>\n",
       "      <td>28:08</td>\n",
       "    </tr>\n",
       "    <tr>\n",
       "      <th>1</th>\n",
       "      <td>2</td>\n",
       "      <td>1</td>\n",
       "      <td>630</td>\n",
       "      <td>6</td>\n",
       "      <td>Daniel Chebii</td>\n",
       "      <td>34</td>\n",
       "      <td>M</td>\n",
       "      <td>Kenya</td>\n",
       "      <td>NaN</td>\n",
       "      <td>28:09</td>\n",
       "      <td>28:09</td>\n",
       "    </tr>\n",
       "    <tr>\n",
       "      <th>2</th>\n",
       "      <td>3</td>\n",
       "      <td>2</td>\n",
       "      <td>630</td>\n",
       "      <td>8</td>\n",
       "      <td>Stephen Sambu</td>\n",
       "      <td>30</td>\n",
       "      <td>M</td>\n",
       "      <td>Kenya</td>\n",
       "      <td>NaN</td>\n",
       "      <td>28:11</td>\n",
       "      <td>28:11</td>\n",
       "    </tr>\n",
       "    <tr>\n",
       "      <th>3</th>\n",
       "      <td>4</td>\n",
       "      <td>1</td>\n",
       "      <td>277</td>\n",
       "      <td>30</td>\n",
       "      <td>Joseph Panga</td>\n",
       "      <td>23</td>\n",
       "      <td>M</td>\n",
       "      <td>Tanzania</td>\n",
       "      <td>NaN</td>\n",
       "      <td>28:14</td>\n",
       "      <td>28:14</td>\n",
       "    </tr>\n",
       "    <tr>\n",
       "      <th>4</th>\n",
       "      <td>5</td>\n",
       "      <td>2</td>\n",
       "      <td>597</td>\n",
       "      <td>11</td>\n",
       "      <td>James Ngandu</td>\n",
       "      <td>29</td>\n",
       "      <td>M</td>\n",
       "      <td>Kenya</td>\n",
       "      <td>NaN</td>\n",
       "      <td>28:42</td>\n",
       "      <td>28:42</td>\n",
       "    </tr>\n",
       "  </tbody>\n",
       "</table>\n",
       "</div>"
      ],
      "text/plain": [
       "   place  div  tot  bib           name  age sex      city   st net_time  \\\n",
       "0      1    1  597   10     David Bett   26   M     Kenya  NaN    28:08   \n",
       "1      2    1  630    6  Daniel Chebii   34   M     Kenya  NaN    28:09   \n",
       "2      3    2  630    8  Stephen Sambu   30   M     Kenya  NaN    28:11   \n",
       "3      4    1  277   30   Joseph Panga   23   M  Tanzania  NaN    28:14   \n",
       "4      5    2  597   11   James Ngandu   29   M     Kenya  NaN    28:42   \n",
       "\n",
       "  gun_time  \n",
       "0    28:08  \n",
       "1    28:09  \n",
       "2    28:11  \n",
       "3    28:14  \n",
       "4    28:42  "
      ]
     },
     "execution_count": 2,
     "metadata": {},
     "output_type": "execute_result"
    }
   ],
   "source": [
    "# Load file\n",
    "df = pd.read_fwf('OverallResults10k.txt', \n",
    "                 colspecs=[(0, 5),(6,9),(10,13),(14,20),\n",
    "                           (24,55),(56,58),(60,61),(65,83),\n",
    "                           (84,86),(97,104),(105,112)], \n",
    "                 skiprows=7,\n",
    "                 header=None,\n",
    "                 names=['place', 'div', 'tot', 'bib', 'name', \n",
    "                        'age', 'sex', 'city', 'st', \n",
    "                        'net_time', 'gun_time'])\n",
    "df.head()"
   ]
  },
  {
   "cell_type": "markdown",
   "metadata": {},
   "source": [
    "## Statistics\n",
    "### How many runners ran the 10K?\n",
    "We can find this information by getting the the number of rows in our DataFrame."
   ]
  },
  {
   "cell_type": "code",
   "execution_count": 3,
   "metadata": {},
   "outputs": [
    {
     "data": {
      "text/plain": [
       "8003"
      ]
     },
     "execution_count": 3,
     "metadata": {},
     "output_type": "execute_result"
    }
   ],
   "source": [
    "len(df)"
   ]
  },
  {
   "cell_type": "markdown",
   "metadata": {},
   "source": [
    "### How did I do in the race?\n",
    "Let's see how I did in the race. We can find this by getting the row in the DataFrame that contains my name."
   ]
  },
  {
   "cell_type": "code",
   "execution_count": 4,
   "metadata": {},
   "outputs": [
    {
     "data": {
      "text/html": [
       "<div>\n",
       "<style scoped>\n",
       "    .dataframe tbody tr th:only-of-type {\n",
       "        vertical-align: middle;\n",
       "    }\n",
       "\n",
       "    .dataframe tbody tr th {\n",
       "        vertical-align: top;\n",
       "    }\n",
       "\n",
       "    .dataframe thead th {\n",
       "        text-align: right;\n",
       "    }\n",
       "</style>\n",
       "<table border=\"1\" class=\"dataframe\">\n",
       "  <thead>\n",
       "    <tr style=\"text-align: right;\">\n",
       "      <th></th>\n",
       "      <th>place</th>\n",
       "      <th>div</th>\n",
       "      <th>tot</th>\n",
       "      <th>bib</th>\n",
       "      <th>name</th>\n",
       "      <th>age</th>\n",
       "      <th>sex</th>\n",
       "      <th>city</th>\n",
       "      <th>st</th>\n",
       "      <th>net_time</th>\n",
       "      <th>gun_time</th>\n",
       "    </tr>\n",
       "  </thead>\n",
       "  <tbody>\n",
       "    <tr>\n",
       "      <th>205</th>\n",
       "      <td>206</td>\n",
       "      <td>38</td>\n",
       "      <td>597</td>\n",
       "      <td>502</td>\n",
       "      <td>John Flanigan</td>\n",
       "      <td>25</td>\n",
       "      <td>M</td>\n",
       "      <td>Boston</td>\n",
       "      <td>MA</td>\n",
       "      <td>39:47</td>\n",
       "      <td>40:07</td>\n",
       "    </tr>\n",
       "  </tbody>\n",
       "</table>\n",
       "</div>"
      ],
      "text/plain": [
       "     place  div  tot  bib           name  age sex    city  st net_time  \\\n",
       "205    206   38  597  502  John Flanigan   25   M  Boston  MA    39:47   \n",
       "\n",
       "    gun_time  \n",
       "205    40:07  "
      ]
     },
     "execution_count": 4,
     "metadata": {},
     "output_type": "execute_result"
    }
   ],
   "source": [
    "df.loc[df.name == 'John Flanigan']"
   ]
  },
  {
   "cell_type": "markdown",
   "metadata": {},
   "source": [
    "### How did I do compared to other runners from Boston?\n",
    "To find how I did compared to other runners from Boston, we'll first have to retrieve the runners from Boston from the DataFrame. We'll then assign them each a new `place` and retrieve the row containing my name again."
   ]
  },
  {
   "cell_type": "code",
   "execution_count": 5,
   "metadata": {},
   "outputs": [
    {
     "name": "stderr",
     "output_type": "stream",
     "text": [
      "/usr/local/lib/python3.7/site-packages/pandas/core/generic.py:5096: SettingWithCopyWarning: \n",
      "A value is trying to be set on a copy of a slice from a DataFrame.\n",
      "Try using .loc[row_indexer,col_indexer] = value instead\n",
      "\n",
      "See the caveats in the documentation: http://pandas.pydata.org/pandas-docs/stable/indexing.html#indexing-view-versus-copy\n",
      "  self[name] = value\n"
     ]
    },
    {
     "data": {
      "text/html": [
       "<div>\n",
       "<style scoped>\n",
       "    .dataframe tbody tr th:only-of-type {\n",
       "        vertical-align: middle;\n",
       "    }\n",
       "\n",
       "    .dataframe tbody tr th {\n",
       "        vertical-align: top;\n",
       "    }\n",
       "\n",
       "    .dataframe thead th {\n",
       "        text-align: right;\n",
       "    }\n",
       "</style>\n",
       "<table border=\"1\" class=\"dataframe\">\n",
       "  <thead>\n",
       "    <tr style=\"text-align: right;\">\n",
       "      <th></th>\n",
       "      <th>place</th>\n",
       "      <th>div</th>\n",
       "      <th>tot</th>\n",
       "      <th>bib</th>\n",
       "      <th>name</th>\n",
       "      <th>age</th>\n",
       "      <th>sex</th>\n",
       "      <th>city</th>\n",
       "      <th>st</th>\n",
       "      <th>net_time</th>\n",
       "      <th>gun_time</th>\n",
       "    </tr>\n",
       "  </thead>\n",
       "  <tbody>\n",
       "    <tr>\n",
       "      <th>205</th>\n",
       "      <td>27</td>\n",
       "      <td>38</td>\n",
       "      <td>597</td>\n",
       "      <td>502</td>\n",
       "      <td>John Flanigan</td>\n",
       "      <td>25</td>\n",
       "      <td>M</td>\n",
       "      <td>Boston</td>\n",
       "      <td>MA</td>\n",
       "      <td>39:47</td>\n",
       "      <td>40:07</td>\n",
       "    </tr>\n",
       "  </tbody>\n",
       "</table>\n",
       "</div>"
      ],
      "text/plain": [
       "     place  div  tot  bib           name  age sex    city  st net_time  \\\n",
       "205     27   38  597  502  John Flanigan   25   M  Boston  MA    39:47   \n",
       "\n",
       "    gun_time  \n",
       "205    40:07  "
      ]
     },
     "execution_count": 5,
     "metadata": {},
     "output_type": "execute_result"
    }
   ],
   "source": [
    "boston_runners = df.loc[df.city == 'Boston']\n",
    "boston_runners.place = [x for x in range(1, len(boston_runners) + 1)]\n",
    "boston_runners.loc[boston_runners.name == 'John Flanigan']"
   ]
  },
  {
   "cell_type": "markdown",
   "metadata": {},
   "source": [
    "### Find the total time people spent running\n",
    "To find the total time people spent running, we'll first need to get `net_time` in seconds. After that, we can calculate the total time people spent running."
   ]
  },
  {
   "cell_type": "code",
   "execution_count": 6,
   "metadata": {},
   "outputs": [
    {
     "data": {
      "text/html": [
       "<div>\n",
       "<style scoped>\n",
       "    .dataframe tbody tr th:only-of-type {\n",
       "        vertical-align: middle;\n",
       "    }\n",
       "\n",
       "    .dataframe tbody tr th {\n",
       "        vertical-align: top;\n",
       "    }\n",
       "\n",
       "    .dataframe thead th {\n",
       "        text-align: right;\n",
       "    }\n",
       "</style>\n",
       "<table border=\"1\" class=\"dataframe\">\n",
       "  <thead>\n",
       "    <tr style=\"text-align: right;\">\n",
       "      <th></th>\n",
       "      <th>place</th>\n",
       "      <th>div</th>\n",
       "      <th>tot</th>\n",
       "      <th>bib</th>\n",
       "      <th>name</th>\n",
       "      <th>age</th>\n",
       "      <th>sex</th>\n",
       "      <th>city</th>\n",
       "      <th>st</th>\n",
       "      <th>net_time</th>\n",
       "      <th>gun_time</th>\n",
       "      <th>net_time_sec</th>\n",
       "    </tr>\n",
       "  </thead>\n",
       "  <tbody>\n",
       "    <tr>\n",
       "      <th>0</th>\n",
       "      <td>1</td>\n",
       "      <td>1</td>\n",
       "      <td>597</td>\n",
       "      <td>10</td>\n",
       "      <td>David Bett</td>\n",
       "      <td>26</td>\n",
       "      <td>M</td>\n",
       "      <td>Kenya</td>\n",
       "      <td>NaN</td>\n",
       "      <td>28:08</td>\n",
       "      <td>28:08</td>\n",
       "      <td>1688</td>\n",
       "    </tr>\n",
       "    <tr>\n",
       "      <th>1</th>\n",
       "      <td>2</td>\n",
       "      <td>1</td>\n",
       "      <td>630</td>\n",
       "      <td>6</td>\n",
       "      <td>Daniel Chebii</td>\n",
       "      <td>34</td>\n",
       "      <td>M</td>\n",
       "      <td>Kenya</td>\n",
       "      <td>NaN</td>\n",
       "      <td>28:09</td>\n",
       "      <td>28:09</td>\n",
       "      <td>1689</td>\n",
       "    </tr>\n",
       "    <tr>\n",
       "      <th>2</th>\n",
       "      <td>3</td>\n",
       "      <td>2</td>\n",
       "      <td>630</td>\n",
       "      <td>8</td>\n",
       "      <td>Stephen Sambu</td>\n",
       "      <td>30</td>\n",
       "      <td>M</td>\n",
       "      <td>Kenya</td>\n",
       "      <td>NaN</td>\n",
       "      <td>28:11</td>\n",
       "      <td>28:11</td>\n",
       "      <td>1691</td>\n",
       "    </tr>\n",
       "    <tr>\n",
       "      <th>3</th>\n",
       "      <td>4</td>\n",
       "      <td>1</td>\n",
       "      <td>277</td>\n",
       "      <td>30</td>\n",
       "      <td>Joseph Panga</td>\n",
       "      <td>23</td>\n",
       "      <td>M</td>\n",
       "      <td>Tanzania</td>\n",
       "      <td>NaN</td>\n",
       "      <td>28:14</td>\n",
       "      <td>28:14</td>\n",
       "      <td>1694</td>\n",
       "    </tr>\n",
       "    <tr>\n",
       "      <th>4</th>\n",
       "      <td>5</td>\n",
       "      <td>2</td>\n",
       "      <td>597</td>\n",
       "      <td>11</td>\n",
       "      <td>James Ngandu</td>\n",
       "      <td>29</td>\n",
       "      <td>M</td>\n",
       "      <td>Kenya</td>\n",
       "      <td>NaN</td>\n",
       "      <td>28:42</td>\n",
       "      <td>28:42</td>\n",
       "      <td>1722</td>\n",
       "    </tr>\n",
       "  </tbody>\n",
       "</table>\n",
       "</div>"
      ],
      "text/plain": [
       "   place  div  tot  bib           name  age sex      city   st net_time  \\\n",
       "0      1    1  597   10     David Bett   26   M     Kenya  NaN    28:08   \n",
       "1      2    1  630    6  Daniel Chebii   34   M     Kenya  NaN    28:09   \n",
       "2      3    2  630    8  Stephen Sambu   30   M     Kenya  NaN    28:11   \n",
       "3      4    1  277   30   Joseph Panga   23   M  Tanzania  NaN    28:14   \n",
       "4      5    2  597   11   James Ngandu   29   M     Kenya  NaN    28:42   \n",
       "\n",
       "  gun_time  net_time_sec  \n",
       "0    28:08          1688  \n",
       "1    28:09          1689  \n",
       "2    28:11          1691  \n",
       "3    28:14          1694  \n",
       "4    28:42          1722  "
      ]
     },
     "execution_count": 6,
     "metadata": {},
     "output_type": "execute_result"
    }
   ],
   "source": [
    "# Convert times to seconds to make calculations simpler\n",
    "def convert_time_to_seconds(time):\n",
    "    split = time.split(':')\n",
    "    if len(split) == 3:\n",
    "        hours = int(split[0])\n",
    "        minutes = int(split[1])\n",
    "        seconds = int(split[2])\n",
    "    elif len(split) == 2:\n",
    "        hours = 0\n",
    "        minutes = int(split[0])\n",
    "        seconds = int(split[1])\n",
    "    return hours * 3600 + minutes * 60 + seconds\n",
    "\n",
    "df['net_time_sec'] = df.net_time.apply(convert_time_to_seconds)\n",
    "df.head(5)"
   ]
  },
  {
   "cell_type": "code",
   "execution_count": 7,
   "metadata": {},
   "outputs": [
    {
     "data": {
      "text/plain": [
       "'343.84414351851854 days were spent running!'"
      ]
     },
     "execution_count": 7,
     "metadata": {},
     "output_type": "execute_result"
    }
   ],
   "source": [
    "days = df.net_time_sec.sum() / (60 * 60 * 24)\n",
    "'{} days were spent running!'.format(days)"
   ]
  },
  {
   "cell_type": "markdown",
   "metadata": {},
   "source": [
    "# Data Visualizations"
   ]
  },
  {
   "cell_type": "markdown",
   "metadata": {},
   "source": [
    "### Average Running Times\n",
    "Let's plot the averge times for the top 10 cities and countries with the most runners. I originally planned to just do cities but the data provided does not distinguish between a city and a country."
   ]
  },
  {
   "cell_type": "code",
   "execution_count": 8,
   "metadata": {},
   "outputs": [
    {
     "data": {
      "text/plain": [
       "Index(['Boston', 'Cambridge', 'Brookline', 'Somerville', 'India', 'Newton',\n",
       "       'Brighton', 'Medford', 'China', 'Quincy'],\n",
       "      dtype='object')"
      ]
     },
     "execution_count": 8,
     "metadata": {},
     "output_type": "execute_result"
    }
   ],
   "source": [
    "N = 10\n",
    "runners_from_cities = df.city.value_counts()\n",
    "top_cities = runners_from_cities.nlargest(N).index\n",
    "top_cities"
   ]
  },
  {
   "cell_type": "code",
   "execution_count": 9,
   "metadata": {},
   "outputs": [],
   "source": [
    "df['net_time_min'] = df.net_time_sec.apply(lambda x : math.floor(x / 60))"
   ]
  },
  {
   "cell_type": "code",
   "execution_count": 10,
   "metadata": {},
   "outputs": [
    {
     "data": {
      "text/plain": [
       "city\n",
       "Boston        59.484349\n",
       "Brighton      60.815789\n",
       "Brookline     58.950311\n",
       "Cambridge     57.655556\n",
       "China         63.870370\n",
       "India         70.596859\n",
       "Medford       62.182609\n",
       "Newton        59.376623\n",
       "Quincy        63.898148\n",
       "Somerville    58.645985\n",
       "Name: net_time_min, dtype: float64"
      ]
     },
     "execution_count": 10,
     "metadata": {},
     "output_type": "execute_result"
    }
   ],
   "source": [
    "mean_net_time_by_city = df.loc[df.city.isin(top_cities)].groupby('city').net_time_min.mean()\n",
    "mean_net_time_by_city"
   ]
  },
  {
   "cell_type": "code",
   "execution_count": 11,
   "metadata": {},
   "outputs": [
    {
     "data": {
      "image/png": "[encoded data removed]",
      "text/plain": [
       "<Figure size 432x288 with 1 Axes>"
      ]
     },
     "metadata": {
      "needs_background": "light"
     },
     "output_type": "display_data"
    }
   ],
   "source": [
    "left = 52.5\n",
    "ind = np.arange(N)\n",
    "sorted_cities = mean_net_time_by_city.sort_index(ascending=False)\n",
    "\n",
    "plt.barh(ind, sorted_cities - left, left = left, tick_label=sorted_cities.index)\n",
    "plt.xlabel('Mean Net Time (min)')\n",
    "plt.show()"
   ]
  },
  {
   "cell_type": "markdown",
   "metadata": {},
   "source": [
    "### Place by Time Plot\n",
    "Now lets try to plot the number of finishers for each minute."
   ]
  },
  {
   "cell_type": "code",
   "execution_count": 12,
   "metadata": {},
   "outputs": [
    {
     "data": {
      "text/plain": [
       "net_time_min\n",
       "28    6\n",
       "29    5\n",
       "30    4\n",
       "31    7\n",
       "32    8\n",
       "dtype: int64"
      ]
     },
     "execution_count": 12,
     "metadata": {},
     "output_type": "execute_result"
    }
   ],
   "source": [
    "finishers_per_minute = df.groupby('net_time_min').size()\n",
    "finishers_per_minute.head()"
   ]
  },
  {
   "cell_type": "code",
   "execution_count": 13,
   "metadata": {},
   "outputs": [
    {
     "data": {
      "image/png": "[encoded data removed]",
      "text/plain": [
       "<Figure size 432x288 with 1 Axes>"
      ]
     },
     "metadata": {
      "needs_background": "light"
     },
     "output_type": "display_data"
    }
   ],
   "source": [
    "plt.scatter(finishers_per_minute.index, finishers_per_minute.values)\n",
    "plt.scatter(39, finishers_per_minute[39], color='red')\n",
    "plt.xlabel('Net Time (min)')\n",
    "plt.ylabel('Number of Finishers')\n",
    "plt.show()"
   ]
  },
  {
   "cell_type": "markdown",
   "metadata": {},
   "source": [
    "As you can see, the resulting graph is a bell curve with a long right tail. I added a red dot to represent my finishing time."
   ]
  },
  {
   "cell_type": "markdown",
   "metadata": {},
   "source": [
    "# Linear Regression\n",
    "The techniques and much of the code in this section are taken from the [_Towards Data Science_](https://towardsdatascience.com/) post, [\"Train/Test Split and Cross Validation in Python\"](https://towardsdatascience.com/train-test-split-and-cross-validation-in-python-80b61beca4b6), by [Adi Bronshtein](https://towardsdatascience.com/@adi.bronshtein)."
   ]
  },
  {
   "cell_type": "markdown",
   "metadata": {},
   "source": [
    "First we need to clean up our data. Because `sex` is a string, the `LinearRegression` model throws an error when trying to fit the model. Our first step will be transforming this variable into something the model can use."
   ]
  },
  {
   "cell_type": "code",
   "execution_count": 14,
   "metadata": {},
   "outputs": [
    {
     "data": {
      "text/html": [
       "<div>\n",
       "<style scoped>\n",
       "    .dataframe tbody tr th:only-of-type {\n",
       "        vertical-align: middle;\n",
       "    }\n",
       "\n",
       "    .dataframe tbody tr th {\n",
       "        vertical-align: top;\n",
       "    }\n",
       "\n",
       "    .dataframe thead th {\n",
       "        text-align: right;\n",
       "    }\n",
       "</style>\n",
       "<table border=\"1\" class=\"dataframe\">\n",
       "  <thead>\n",
       "    <tr style=\"text-align: right;\">\n",
       "      <th></th>\n",
       "      <th>place</th>\n",
       "      <th>div</th>\n",
       "      <th>tot</th>\n",
       "      <th>bib</th>\n",
       "      <th>name</th>\n",
       "      <th>age</th>\n",
       "      <th>sex</th>\n",
       "      <th>city</th>\n",
       "      <th>st</th>\n",
       "      <th>net_time</th>\n",
       "      <th>gun_time</th>\n",
       "      <th>net_time_sec</th>\n",
       "      <th>net_time_min</th>\n",
       "      <th>sex_m</th>\n",
       "      <th>sex_f</th>\n",
       "    </tr>\n",
       "  </thead>\n",
       "  <tbody>\n",
       "    <tr>\n",
       "      <th>0</th>\n",
       "      <td>1</td>\n",
       "      <td>1</td>\n",
       "      <td>597</td>\n",
       "      <td>10</td>\n",
       "      <td>David Bett</td>\n",
       "      <td>26</td>\n",
       "      <td>M</td>\n",
       "      <td>Kenya</td>\n",
       "      <td>NaN</td>\n",
       "      <td>28:08</td>\n",
       "      <td>28:08</td>\n",
       "      <td>1688</td>\n",
       "      <td>28</td>\n",
       "      <td>True</td>\n",
       "      <td>False</td>\n",
       "    </tr>\n",
       "    <tr>\n",
       "      <th>1</th>\n",
       "      <td>2</td>\n",
       "      <td>1</td>\n",
       "      <td>630</td>\n",
       "      <td>6</td>\n",
       "      <td>Daniel Chebii</td>\n",
       "      <td>34</td>\n",
       "      <td>M</td>\n",
       "      <td>Kenya</td>\n",
       "      <td>NaN</td>\n",
       "      <td>28:09</td>\n",
       "      <td>28:09</td>\n",
       "      <td>1689</td>\n",
       "      <td>28</td>\n",
       "      <td>True</td>\n",
       "      <td>False</td>\n",
       "    </tr>\n",
       "    <tr>\n",
       "      <th>2</th>\n",
       "      <td>3</td>\n",
       "      <td>2</td>\n",
       "      <td>630</td>\n",
       "      <td>8</td>\n",
       "      <td>Stephen Sambu</td>\n",
       "      <td>30</td>\n",
       "      <td>M</td>\n",
       "      <td>Kenya</td>\n",
       "      <td>NaN</td>\n",
       "      <td>28:11</td>\n",
       "      <td>28:11</td>\n",
       "      <td>1691</td>\n",
       "      <td>28</td>\n",
       "      <td>True</td>\n",
       "      <td>False</td>\n",
       "    </tr>\n",
       "    <tr>\n",
       "      <th>3</th>\n",
       "      <td>4</td>\n",
       "      <td>1</td>\n",
       "      <td>277</td>\n",
       "      <td>30</td>\n",
       "      <td>Joseph Panga</td>\n",
       "      <td>23</td>\n",
       "      <td>M</td>\n",
       "      <td>Tanzania</td>\n",
       "      <td>NaN</td>\n",
       "      <td>28:14</td>\n",
       "      <td>28:14</td>\n",
       "      <td>1694</td>\n",
       "      <td>28</td>\n",
       "      <td>True</td>\n",
       "      <td>False</td>\n",
       "    </tr>\n",
       "    <tr>\n",
       "      <th>4</th>\n",
       "      <td>5</td>\n",
       "      <td>2</td>\n",
       "      <td>597</td>\n",
       "      <td>11</td>\n",
       "      <td>James Ngandu</td>\n",
       "      <td>29</td>\n",
       "      <td>M</td>\n",
       "      <td>Kenya</td>\n",
       "      <td>NaN</td>\n",
       "      <td>28:42</td>\n",
       "      <td>28:42</td>\n",
       "      <td>1722</td>\n",
       "      <td>28</td>\n",
       "      <td>True</td>\n",
       "      <td>False</td>\n",
       "    </tr>\n",
       "  </tbody>\n",
       "</table>\n",
       "</div>"
      ],
      "text/plain": [
       "   place  div  tot  bib           name  age sex      city   st net_time  \\\n",
       "0      1    1  597   10     David Bett   26   M     Kenya  NaN    28:08   \n",
       "1      2    1  630    6  Daniel Chebii   34   M     Kenya  NaN    28:09   \n",
       "2      3    2  630    8  Stephen Sambu   30   M     Kenya  NaN    28:11   \n",
       "3      4    1  277   30   Joseph Panga   23   M  Tanzania  NaN    28:14   \n",
       "4      5    2  597   11   James Ngandu   29   M     Kenya  NaN    28:42   \n",
       "\n",
       "  gun_time  net_time_sec  net_time_min  sex_m  sex_f  \n",
       "0    28:08          1688            28   True  False  \n",
       "1    28:09          1689            28   True  False  \n",
       "2    28:11          1691            28   True  False  \n",
       "3    28:14          1694            28   True  False  \n",
       "4    28:42          1722            28   True  False  "
      ]
     },
     "execution_count": 14,
     "metadata": {},
     "output_type": "execute_result"
    }
   ],
   "source": [
    "df['sex_m'] = df.sex == 'M'\n",
    "df['sex_f'] = df.sex == 'F'\n",
    "\n",
    "df.head()"
   ]
  },
  {
   "cell_type": "code",
   "execution_count": 15,
   "metadata": {},
   "outputs": [],
   "source": [
    "X = np.array(df[['age', 'sex_m', 'sex_f']])\n",
    "y = np.array(df['net_time_sec'])"
   ]
  },
  {
   "cell_type": "code",
   "execution_count": 16,
   "metadata": {},
   "outputs": [
    {
     "data": {
      "text/plain": [
       "array([3307.05677236, 3917.73670457, 3814.40672574, ..., 3886.73771092,\n",
       "       4083.06467069, 3555.04872154])"
      ]
     },
     "execution_count": 16,
     "metadata": {},
     "output_type": "execute_result"
    }
   ],
   "source": [
    "X_train, X_test, y_train, y_test = train_test_split(X, y, test_size=0.33)\n",
    "\n",
    "reg = LinearRegression().fit(X_train, y_train)\n",
    "predictions = reg.predict(X_test)\n",
    "predictions"
   ]
  },
  {
   "cell_type": "code",
   "execution_count": 17,
   "metadata": {},
   "outputs": [
    {
     "data": {
      "image/png": "[encoded data removed]",
      "text/plain": [
       "<Figure size 432x288 with 1 Axes>"
      ]
     },
     "metadata": {
      "needs_background": "light"
     },
     "output_type": "display_data"
    }
   ],
   "source": [
    "plt.scatter(y_test, predictions)\n",
    "plt.xlabel('True Values')\n",
    "plt.ylabel('Predictions')\n",
    "plt.show()"
   ]
  },
  {
   "cell_type": "code",
   "execution_count": 18,
   "metadata": {},
   "outputs": [
    {
     "data": {
      "text/plain": [
       "0.14245893728864334"
      ]
     },
     "execution_count": 18,
     "metadata": {},
     "output_type": "execute_result"
    }
   ],
   "source": [
    "reg.score(X_test, y_test)"
   ]
  },
  {
   "cell_type": "markdown",
   "metadata": {},
   "source": [
    "Based on this score, our model was not very good at predicting finishing times. It seems `age` and `sex` alone are not enough to accurately predict finishing times."
   ]
  },
  {
   "cell_type": "markdown",
   "metadata": {},
   "source": [
    "### Perform same scoring with place included\n",
    "If we repeat the exercise above but include the `place` a runner finished in, we should have much better results."
   ]
  },
  {
   "cell_type": "code",
   "execution_count": 19,
   "metadata": {},
   "outputs": [],
   "source": [
    "X = np.array(df[['age', 'place', 'sex_m', 'sex_f']])\n",
    "y = np.array(df['net_time_sec'])"
   ]
  },
  {
   "cell_type": "code",
   "execution_count": 20,
   "metadata": {},
   "outputs": [
    {
     "data": {
      "text/plain": [
       "array([4874.64065725, 3062.95943818, 3856.62599919, ..., 4719.8049507 ,\n",
       "       3730.16390535, 3710.32477936])"
      ]
     },
     "execution_count": 20,
     "metadata": {},
     "output_type": "execute_result"
    }
   ],
   "source": [
    "X_train, X_test, y_train, y_test = train_test_split(X, y, test_size=0.33)\n",
    "\n",
    "reg = LinearRegression().fit(X_train, y_train)\n",
    "predictions = reg.predict(X_test)\n",
    "predictions"
   ]
  },
  {
   "cell_type": "code",
   "execution_count": 21,
   "metadata": {},
   "outputs": [
    {
     "data": {
      "image/png": "[encoded data removed]",
      "text/plain": [
       "<Figure size 432x288 with 1 Axes>"
      ]
     },
     "metadata": {
      "needs_background": "light"
     },
     "output_type": "display_data"
    }
   ],
   "source": [
    "plt.scatter(y_test, predictions)\n",
    "plt.xlabel('True Values')\n",
    "plt.ylabel('Predictions')\n",
    "plt.show()"
   ]
  },
  {
   "cell_type": "code",
   "execution_count": 22,
   "metadata": {},
   "outputs": [
    {
     "data": {
      "text/plain": [
       "0.9290610164448602"
      ]
     },
     "execution_count": 22,
     "metadata": {},
     "output_type": "execute_result"
    }
   ],
   "source": [
    "reg.score(X_test, y_test)"
   ]
  },
  {
   "cell_type": "markdown",
   "metadata": {},
   "source": [
    "As you can see, the model is much better at predicting net times when also given the place someone finished in. This makes sense because of the high correlation between net time and place."
   ]
  },
  {
   "cell_type": "markdown",
   "metadata": {},
   "source": [
    "### Now time to run our model\n",
    "Below are 4 test cases to so we can test inputs to our model and see what times it comes back with."
   ]
  },
  {
   "cell_type": "code",
   "execution_count": 23,
   "metadata": {},
   "outputs": [],
   "source": [
    "def formatted_time(time):\n",
    "    time = int(time)\n",
    "    hours = math.floor(time / 3600)\n",
    "    time -= hours * 3600\n",
    "    \n",
    "    minutes = math.floor(time / 60)\n",
    "    seconds = time - (minutes * 60)\n",
    "    \n",
    "    return('{0:02d}:{1:02d}:{2:02d}'.format(hours, minutes, seconds))"
   ]
  },
  {
   "cell_type": "code",
   "execution_count": 24,
   "metadata": {},
   "outputs": [
    {
     "data": {
      "text/plain": [
       "'00:41:24'"
      ]
     },
     "execution_count": 24,
     "metadata": {},
     "output_type": "execute_result"
    }
   ],
   "source": [
    "# 25 year old male who placed 206\n",
    "formatted_time(reg.predict(np.array([[25, 206, True, False]]))[0])"
   ]
  },
  {
   "cell_type": "code",
   "execution_count": 25,
   "metadata": {},
   "outputs": [
    {
     "data": {
      "text/plain": [
       "'00:41:30'"
      ]
     },
     "execution_count": 25,
     "metadata": {},
     "output_type": "execute_result"
    }
   ],
   "source": [
    "# 25 year old female who placed 206\n",
    "formatted_time(reg.predict(np.array([[25, 206, False, True]]))[0])"
   ]
  },
  {
   "cell_type": "code",
   "execution_count": 26,
   "metadata": {},
   "outputs": [
    {
     "data": {
      "text/plain": [
       "'00:42:22'"
      ]
     },
     "execution_count": 26,
     "metadata": {},
     "output_type": "execute_result"
    }
   ],
   "source": [
    "# 65 year old male who placed 206\n",
    "formatted_time(reg.predict(np.array([[65, 206, True, False]]))[0])"
   ]
  },
  {
   "cell_type": "code",
   "execution_count": 27,
   "metadata": {},
   "outputs": [
    {
     "data": {
      "text/plain": [
       "'01:01:31'"
      ]
     },
     "execution_count": 27,
     "metadata": {},
     "output_type": "execute_result"
    }
   ],
   "source": [
    "# 25 year old male who placed 4000\n",
    "formatted_time(reg.predict(np.array([[25, 4000, True, False]]))[0])"
   ]
  },
  {
   "cell_type": "code",
   "execution_count": 28,
   "metadata": {},
   "outputs": [
    {
     "data": {
      "text/plain": [
       "array([ 1.46675045,  0.31819285, -3.27155505,  3.27155505])"
      ]
     },
     "execution_count": 28,
     "metadata": {},
     "output_type": "execute_result"
    }
   ],
   "source": [
    "reg.coef_"
   ]
  },
  {
   "cell_type": "markdown",
   "metadata": {},
   "source": [
    "These numbers seem roughly in line with what we would expect. From these experiments, we can see that the greatest weight is given to the place someone finished in."
   ]
  }
 ],
 "metadata": {
  "kernelspec": {
   "display_name": "Python 3",
   "language": "python",
   "name": "python3"
  },
  "language_info": {
   "codemirror_mode": {
    "name": "ipython",
    "version": 3
   },
   "file_extension": ".py",
   "mimetype": "text/x-python",
   "name": "python",
   "nbconvert_exporter": "python",
   "pygments_lexer": "ipython3",
   "version": "3.7.3"
  }
 },
 "nbformat": 4,
 "nbformat_minor": 2
}
